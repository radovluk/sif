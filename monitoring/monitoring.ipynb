{
 "cells": [
  {
   "cell_type": "markdown",
   "metadata": {},
   "source": [
    "## Emergency Detection"
   ]
  },
  {
   "cell_type": "code",
   "execution_count": 27,
   "metadata": {},
   "outputs": [],
   "source": [
    "import pandas as pd\n",
    "from patient_emergency_detection import emergency_detection_workflow, prepare_data_for_detection, detect_emergency\n",
    "from base.minio_utils import load_model_from_minio\n",
    "from base.influx_utils import fetch_all_sensor_data\n",
    "from base.homecare_hub_utils import send_info, send_todo"
   ]
  },
  {
   "cell_type": "code",
   "execution_count": 28,
   "metadata": {},
   "outputs": [
    {
     "name": "stderr",
     "output_type": "stream",
     "text": [
      "2025-01-03 19:00:21 [INFO] patient_emergency_detection - Starting data preparation for detection.\n",
      "2025-01-03 19:00:21 [INFO] patient_emergency_detection - Original data shape: (1238, 5)\n",
      "2025-01-03 19:00:21 [INFO] patient_emergency_detection - Handled 'sensor' as a list.\n",
      "2025-01-03 19:00:21 [INFO] patient_emergency_detection - Timestamps converted to datetime.\n",
      "2025-01-03 19:00:21 [INFO] patient_emergency_detection - Data sorted by timestamp.\n",
      "2025-01-03 19:00:21 [INFO] patient_emergency_detection - Sensor names encoded successfully.\n",
      "2025-01-03 19:00:21 [INFO] patient_emergency_detection - Mapped sensors to rooms.\n",
      "2025-01-03 19:00:21 [INFO] patient_emergency_detection - Identified room-change points and assigned group IDs.\n",
      "2025-01-03 19:00:21 [INFO] patient_emergency_detection - Calculated start and end times for each group.\n",
      "2025-01-03 19:00:21 [INFO] patient_emergency_detection - Computed durations for each group.\n",
      "2025-01-03 19:00:21 [INFO] patient_emergency_detection - Data preparation for detection completed.\n"
     ]
    },
    {
     "data": {
      "text/html": [
       "<div>\n",
       "<style scoped>\n",
       "    .dataframe tbody tr th:only-of-type {\n",
       "        vertical-align: middle;\n",
       "    }\n",
       "\n",
       "    .dataframe tbody tr th {\n",
       "        vertical-align: top;\n",
       "    }\n",
       "\n",
       "    .dataframe thead th {\n",
       "        text-align: right;\n",
       "    }\n",
       "</style>\n",
       "<table border=\"1\" class=\"dataframe\">\n",
       "  <thead>\n",
       "    <tr style=\"text-align: right;\">\n",
       "      <th></th>\n",
       "      <th>group_id</th>\n",
       "      <th>room</th>\n",
       "      <th>start_time</th>\n",
       "      <th>end_time</th>\n",
       "      <th>duration</th>\n",
       "      <th>duration_seconds</th>\n",
       "    </tr>\n",
       "  </thead>\n",
       "  <tbody>\n",
       "    <tr>\n",
       "      <th>76</th>\n",
       "      <td>77</td>\n",
       "      <td>bathroom</td>\n",
       "      <td>2025-01-03 11:33:54.773</td>\n",
       "      <td>2025-01-03 11:33:54.773</td>\n",
       "      <td>0 days 00:00:00</td>\n",
       "      <td>0.000</td>\n",
       "    </tr>\n",
       "    <tr>\n",
       "      <th>77</th>\n",
       "      <td>78</td>\n",
       "      <td>kitchen</td>\n",
       "      <td>2025-01-03 11:35:58.009</td>\n",
       "      <td>2025-01-03 12:18:42.269</td>\n",
       "      <td>0 days 00:42:44.260000</td>\n",
       "      <td>2564.260</td>\n",
       "    </tr>\n",
       "    <tr>\n",
       "      <th>78</th>\n",
       "      <td>79</td>\n",
       "      <td>bathroom</td>\n",
       "      <td>2025-01-03 12:21:18.244</td>\n",
       "      <td>2025-01-03 12:21:32.604</td>\n",
       "      <td>0 days 00:00:14.360000</td>\n",
       "      <td>14.360</td>\n",
       "    </tr>\n",
       "    <tr>\n",
       "      <th>79</th>\n",
       "      <td>80</td>\n",
       "      <td>kitchen</td>\n",
       "      <td>2025-01-03 12:27:02.348</td>\n",
       "      <td>2025-01-03 17:46:11.561</td>\n",
       "      <td>0 days 05:19:09.213000</td>\n",
       "      <td>19149.213</td>\n",
       "    </tr>\n",
       "    <tr>\n",
       "      <th>80</th>\n",
       "      <td>81</td>\n",
       "      <td>bathroom</td>\n",
       "      <td>2025-01-03 17:51:25.015</td>\n",
       "      <td>2025-01-03 17:59:55.860</td>\n",
       "      <td>0 days 00:08:30.845000</td>\n",
       "      <td>510.845</td>\n",
       "    </tr>\n",
       "  </tbody>\n",
       "</table>\n",
       "</div>"
      ],
      "text/plain": [
       "    group_id      room              start_time                end_time  \\\n",
       "76        77  bathroom 2025-01-03 11:33:54.773 2025-01-03 11:33:54.773   \n",
       "77        78   kitchen 2025-01-03 11:35:58.009 2025-01-03 12:18:42.269   \n",
       "78        79  bathroom 2025-01-03 12:21:18.244 2025-01-03 12:21:32.604   \n",
       "79        80   kitchen 2025-01-03 12:27:02.348 2025-01-03 17:46:11.561   \n",
       "80        81  bathroom 2025-01-03 17:51:25.015 2025-01-03 17:59:55.860   \n",
       "\n",
       "                 duration  duration_seconds  \n",
       "76        0 days 00:00:00             0.000  \n",
       "77 0 days 00:42:44.260000          2564.260  \n",
       "78 0 days 00:00:14.360000            14.360  \n",
       "79 0 days 05:19:09.213000         19149.213  \n",
       "80 0 days 00:08:30.845000           510.845  "
      ]
     },
     "execution_count": 28,
     "metadata": {},
     "output_type": "execute_result"
    }
   ],
   "source": [
    "sensor_data = fetch_all_sensor_data(\n",
    "    start_hours=24,\n",
    "    interval_hours=24\n",
    ")\n",
    "prepared_df = prepare_data_for_detection(sensor_data)\n",
    "prepared_df.tail(5)"
   ]
  },
  {
   "cell_type": "code",
   "execution_count": null,
   "metadata": {},
   "outputs": [],
   "source": [
    "room_stats = load_model_from_minio(\"occupancy\")\n",
    "room_stats"
   ]
  },
  {
   "cell_type": "code",
   "execution_count": null,
   "metadata": {},
   "outputs": [],
   "source": [
    "_, message = emergency_detection_workflow()\n",
    "print(message)"
   ]
  },
  {
   "cell_type": "code",
   "execution_count": 29,
   "metadata": {},
   "outputs": [
    {
     "name": "stderr",
     "output_type": "stream",
     "text": [
      "2025-01-03 19:00:24 [INFO] patient_emergency_detection - Room 'livingroom' stats - Mean: 120.00 seconds, Std: 30.00 seconds.\n",
      "2025-01-03 19:00:24 [INFO] patient_emergency_detection - Duration bounds for emergency detection: (30.00, 210.00) seconds.\n",
      "2025-01-03 19:00:24 [WARNING] patient_emergency_detection - 🚨 Emergency Alert! 🚨\n",
      " Room: livingroom,\n",
      " Patient has spent 0:04:00 here.\n",
      " Expected duration (mean): 0:02:00,\n",
      " Standard deviation (std): 0:00:30,\n",
      " Threshold used: 3,\n",
      " Allowed duration range: 0:00:30 - 0:03:30,\n",
      "Duration is outside the allowed range!\n"
     ]
    },
    {
     "name": "stdout",
     "output_type": "stream",
     "text": [
      "🚨 Emergency Alert! 🚨\n",
      " Room: livingroom,\n",
      " Patient has spent 0:04:00 here.\n",
      " Expected duration (mean): 0:02:00,\n",
      " Standard deviation (std): 0:00:30,\n",
      " Threshold used: 3,\n",
      " Allowed duration range: 0:00:30 - 0:03:30,\n",
      "Duration is outside the allowed range!\n"
     ]
    }
   ],
   "source": [
    "room = \"livingroom\"\n",
    "duration = 240  # seconds\n",
    "stats = pd.Series({\"mean\": 120, \"std\": 30})\n",
    "\n",
    "_, result = detect_emergency(room, duration, stats)\n",
    "print(result)"
   ]
  },
  {
   "cell_type": "code",
   "execution_count": 30,
   "metadata": {},
   "outputs": [
    {
     "name": "stdout",
     "output_type": "stream",
     "text": [
      "ToDo item saved successfully.\n",
      "Response: None\n"
     ]
    }
   ],
   "source": [
    "send_todo(\"🚨 Patient Emergency! 🚨\", result, 2)"
   ]
  },
  {
   "cell_type": "markdown",
   "metadata": {},
   "source": [
    "## Motion Analysis"
   ]
  },
  {
   "cell_type": "code",
   "execution_count": null,
   "metadata": {},
   "outputs": [],
   "source": [
    "from motion_analysis import (\n",
    "    visualize_transitions_heatmap, \n",
    "    plot_bidirectional_transaction_graph, \n",
    "    summary_of_sleep_time_and_time_outside,\n",
    "    count_daily_visits,\n",
    "    detect_wake_up_times,\n",
    "    detect_went_to_sleep_times,\n",
    "    create_separate_heat_maps)\n",
    "from base.minio_utils import load_model_from_minio\n",
    "import pandas as pd\n",
    "from base.homecare_hub_utils import send_info\n",
    "from motion_analysis import analyse_motion_patterns\n",
    "pd.set_option('display.max_columns', None)\n",
    "pd.set_option('display.max_colwidth', None)\n",
    "pd.set_option('display.max_rows', None)"
   ]
  },
  {
   "cell_type": "code",
   "execution_count": null,
   "metadata": {},
   "outputs": [],
   "source": [
    "old_model = load_model_from_minio(\"motion\", 2)\n",
    "new_model = load_model_from_minio(\"motion\", 1)"
   ]
  },
  {
   "cell_type": "code",
   "execution_count": null,
   "metadata": {},
   "outputs": [],
   "source": [
    "old_model.head()"
   ]
  },
  {
   "cell_type": "code",
   "execution_count": null,
   "metadata": {},
   "outputs": [],
   "source": [
    "plot_bidirectional_transaction_graph(old_model)"
   ]
  },
  {
   "cell_type": "code",
   "execution_count": null,
   "metadata": {},
   "outputs": [],
   "source": [
    "plot_bidirectional_transaction_graph(new_model)"
   ]
  },
  {
   "cell_type": "code",
   "execution_count": null,
   "metadata": {},
   "outputs": [],
   "source": [
    "visualize_transitions_heatmap(old_model)"
   ]
  },
  {
   "cell_type": "markdown",
   "metadata": {},
   "source": [
    "#### Counting the sleep and went outside periods"
   ]
  },
  {
   "cell_type": "code",
   "execution_count": null,
   "metadata": {},
   "outputs": [],
   "source": [
    "summary_of_sleep_time_and_time_outside(old_model)"
   ]
  },
  {
   "cell_type": "code",
   "execution_count": null,
   "metadata": {},
   "outputs": [],
   "source": [
    "summary_of_sleep_time_and_time_outside(new_model)"
   ]
  },
  {
   "cell_type": "markdown",
   "metadata": {},
   "source": [
    "#### Detect daliy trips to places"
   ]
  },
  {
   "cell_type": "code",
   "execution_count": null,
   "metadata": {},
   "outputs": [],
   "source": [
    "count_daily_visits(new_model, transition_state='bathroom')"
   ]
  },
  {
   "cell_type": "code",
   "execution_count": null,
   "metadata": {},
   "outputs": [],
   "source": [
    "count_daily_visits(new_model, transition_state='kitchen')"
   ]
  },
  {
   "cell_type": "code",
   "execution_count": null,
   "metadata": {},
   "outputs": [],
   "source": [
    "count_daily_visits(new_model, transition_state='livingroombedarea')"
   ]
  },
  {
   "cell_type": "code",
   "execution_count": null,
   "metadata": {},
   "outputs": [],
   "source": [
    "count_daily_visits(old_model, transition_state='livingroomdoor')"
   ]
  },
  {
   "cell_type": "markdown",
   "metadata": {},
   "source": [
    "#### Wake up times"
   ]
  },
  {
   "cell_type": "code",
   "execution_count": null,
   "metadata": {},
   "outputs": [],
   "source": [
    "detect_wake_up_times(new_model)"
   ]
  },
  {
   "cell_type": "code",
   "execution_count": null,
   "metadata": {},
   "outputs": [],
   "source": [
    "detect_went_to_sleep_times(old_model)"
   ]
  },
  {
   "cell_type": "code",
   "execution_count": null,
   "metadata": {},
   "outputs": [],
   "source": [
    "create_separate_heat_maps(new_model)"
   ]
  },
  {
   "cell_type": "code",
   "execution_count": null,
   "metadata": {},
   "outputs": [],
   "source": [
    "message = analyse_motion_patterns()"
   ]
  },
  {
   "cell_type": "code",
   "execution_count": null,
   "metadata": {},
   "outputs": [],
   "source": [
    "print(message)"
   ]
  },
  {
   "cell_type": "code",
   "execution_count": 26,
   "metadata": {},
   "outputs": [
    {
     "name": "stderr",
     "output_type": "stream",
     "text": [
      "2025-01-03 18:59:31 [INFO] motion_analysis - 🔄 Loading old and new motion models from MinIO...\n",
      "2025-01-03 18:59:31 [INFO] base.minio_utils - Initialized MinIO client successfully.\n",
      "2025-01-03 18:59:31 [INFO] base.minio_utils - [MOTION MODEL] Loading model 'model_motion_20250103133818.json' (version 2).\n",
      "2025-01-03 18:59:31 [INFO] base.minio_utils - [MOTION MODEL] 'model_motion_20250103133818.json' downloaded.\n",
      "2025-01-03 18:59:31 [INFO] base.minio_utils - [MOTION MODEL] Model deserialized successfully.\n",
      "2025-01-03 18:59:31 [INFO] base.minio_utils - Initialized MinIO client successfully.\n",
      "2025-01-03 18:59:31 [INFO] base.minio_utils - [MOTION MODEL] Loading model 'model_motion_20250103133819.json' (version 1).\n",
      "2025-01-03 18:59:31 [INFO] base.minio_utils - [MOTION MODEL] 'model_motion_20250103133819.json' downloaded.\n",
      "2025-01-03 18:59:31 [INFO] base.minio_utils - [MOTION MODEL] Model deserialized successfully.\n",
      "2025-01-03 18:59:31 [INFO] motion_analysis - ✅ Models loaded successfully.\n",
      "\n",
      "2025-01-03 18:59:31 [INFO] motion_analysis - 🔍 Performing analyses on the Old model...\n",
      "2025-01-03 18:59:31 [INFO] motion_analysis - 🔍 Performing analyses on the New model...\n",
      "2025-01-03 18:59:31 [INFO] base.homecare_hub_utils - Information item saved successfully.\n",
      "2025-01-03 18:59:31 [INFO] base.homecare_hub_utils - Response: None\n",
      "2025-01-03 18:59:31 [INFO] motion_analysis - 📤 Motion Patterns Analysis Report sent successfully.\n"
     ]
    },
    {
     "data": {
      "text/plain": [
       "'📊 **📈 Motion Patterns Analysis Report 📉📊**\\n\\n📅 **Report Date:** 2025-01-03 17:59:31 UTC\\n\\n### 🕰️ **Old Motion Model** 🕰️\\n\\n#### 🛌 Sleep Time and 🌳 Time Outside Summary\\n\\n```      date day_of_week sleep_time time_outside\\n2024-11-29      Friday          0       6h 16m\\n2024-11-30    Saturday          0       5h 20m\\n2024-12-01      Sunday     1h 45m       2h 28m\\n2024-12-02      Monday     8h 28m      12h 44m\\n2024-12-03     Tuesday     7h 11m       8h 57m\\n2024-12-04   Wednesday     6h 54m       4h 50m\\n2024-12-05    Thursday      4h 9m      11h 27m\\n2024-12-06      Friday     1h 37m       1h 38m```\\n\\n#### 🚽 **Daily Visits to Bathroom**\\n\\n``` trip_date  bathroom_trip_count\\n2024-12-02                    2\\n2024-12-03                   18\\n2024-12-04                   10\\n2024-12-05                   14\\n2024-12-06                   15```\\n\\n#### 🚽 **Daily Visits to Kitchen**\\n\\n``` trip_date  kitchen_trip_count\\n2024-11-29                  11\\n2024-11-30                  23\\n2024-12-01                  13\\n2024-12-02                   1\\n2024-12-04                   8\\n2024-12-05                  23\\n2024-12-06                  15```\\n\\n#### 🚽 **Daily Visits to Livingroombedarea**\\n\\n``` trip_date  livingroombedarea_trip_count\\n2024-11-29                             1\\n2024-11-30                            17\\n2024-12-01                             5\\n2024-12-02                             1\\n2024-12-03                            18\\n2024-12-04                            10\\n2024-12-05                            14\\n2024-12-06                             2```\\n\\n#### 🚽 **Daily Visits to Livingroomdoor**\\n\\n``` trip_date  livingroomdoor_trip_count\\n2024-11-29                          9\\n2024-11-30                         13\\n2024-12-01                         12\\n2024-12-02                          2\\n2024-12-03                         11\\n2024-12-04                         10\\n2024-12-05                          4\\n2024-12-06                          2```\\n\\n#### 🌅 **Wake-Up Times**\\n\\n```           wake_up_time\\n2024-12-01 23:05:45.970\\n2024-12-02 04:23:16.000\\n2024-12-02 07:56:43.258\\n2024-12-03 07:11:50.727\\n2024-12-04 06:01:07.037\\n2024-12-04 07:22:04.976\\n2024-12-05 04:24:58.706\\n2024-12-05 06:30:21.603\\n2024-12-06 02:39:12.711```\\n\\n#### 🌙 **Went-To-Sleep Times**\\n\\n```          went_to_sleep\\n2024-12-01 22:12:10.000\\n2024-12-01 23:08:19.118\\n2024-12-02 04:23:16.000\\n2024-12-02 23:28:33.267\\n2024-12-04 00:14:02.441\\n2024-12-04 06:14:26.732\\n2024-12-05 01:14:20.083\\n2024-12-05 05:31:38.079\\n2024-12-06 01:01:32.820```\\n\\n#### 🔄 **Transition Counts Between Areas**\\n\\n```             from                to  count\\n         bathroom           kitchen     19\\n         bathroom livingroombedarea     16\\n         bathroom    livingroomdoor      7\\n         bathroom      went outside     13\\n         bathroom     went to sleep      4\\n          kitchen          bathroom     32\\n          kitchen livingroombedarea     25\\n          kitchen    livingroomdoor     29\\n          kitchen      went outside      6\\n          kitchen     went to sleep      1\\nlivingroombedarea          bathroom     15\\nlivingroombedarea           kitchen     28\\nlivingroombedarea    livingroomdoor     17\\nlivingroombedarea      went outside      6\\nlivingroombedarea     went to sleep      2\\n   livingroomdoor          bathroom      7\\n   livingroomdoor           kitchen     36\\n   livingroomdoor livingroombedarea     14\\n   livingroomdoor      went outside      5\\n   livingroomdoor     went to sleep      2\\n     went outside          bathroom      4\\n     went outside           kitchen      9\\n     went outside livingroombedarea      8\\n     went outside    livingroomdoor      9\\n    went to sleep          bathroom      1\\n    went to sleep           kitchen      2\\n    went to sleep livingroombedarea      5\\n    went to sleep    livingroomdoor      1```\\n\\n#### 📊 **Transition Matrix**\\n\\n```to                 bathroom  kitchen  livingroombedarea  livingroomdoor  went outside  went to sleep\\nfrom                                                                                                \\nbathroom                  0       19                 16               7            13              4\\nkitchen                  32        0                 25              29             6              1\\nlivingroombedarea        15       28                  0              17             6              2\\nlivingroomdoor            7       36                 14               0             5              2\\nwent outside              4        9                  8               9             0              0\\nwent to sleep             1        2                  5               1             0              0```\\n\\n### 🕰️ **New Motion Model** 🕰️\\n\\n#### 🛌 Sleep Time and 🌳 Time Outside Summary\\n\\n```      date day_of_week sleep_time time_outside\\n2024-11-22      Friday     0h 32m       1h 35m\\n2024-11-23    Saturday     0h 46m       3h 48m\\n2024-11-24      Sunday     1h 49m       8h 19m\\n2024-11-25      Monday     6h 32m       2h 55m\\n2024-11-26     Tuesday     1h 47m       4h 56m\\n2024-11-27   Wednesday     4h 37m        1h 7m\\n2024-11-28    Thursday     6h 33m       2h 30m```\\n\\n#### 🚽 **Daily Visits to Bathroom**\\n\\n``` trip_date  bathroom_trip_count\\n2024-11-22                   10\\n2024-11-23                   44\\n2024-11-24                   71\\n2024-11-25                   20\\n2024-11-26                   49\\n2024-11-27                   13\\n2024-11-28                    2```\\n\\n#### 🚽 **Daily Visits to Kitchen**\\n\\n``` trip_date  kitchen_trip_count\\n2024-11-22                  12\\n2024-11-23                  41\\n2024-11-24                  76\\n2024-11-25                  23\\n2024-11-26                  55\\n2024-11-27                  13\\n2024-11-28                   9```\\n\\n#### 🚽 **Daily Visits to Livingroombedarea**\\n\\n``` trip_date  livingroombedarea_trip_count\\n2024-11-22                             2\\n2024-11-23                            21\\n2024-11-24                             6\\n2024-11-25                             1\\n2024-11-26                             6\\n2024-11-27                             7\\n2024-11-28                             1```\\n\\n#### 🚽 **Daily Visits to Livingroomdoor**\\n\\n``` trip_date  livingroomdoor_trip_count\\n2024-11-22                          1\\n2024-11-23                          5\\n2024-11-24                         12\\n2024-11-25                          4\\n2024-11-26                          9\\n2024-11-27                          5\\n2024-11-28                          9```\\n\\n#### 🌅 **Wake-Up Times**\\n\\n```           wake_up_time\\n2024-11-22 22:35:23.179\\n2024-11-24 00:14:56.818\\n2024-11-25 05:26:02.000\\n2024-11-25 17:29:48.000\\n2024-11-26 01:47:15.327\\n2024-11-27 01:54:12.349\\n2024-11-27 02:29:05.001\\n2024-11-27 08:32:14.606\\n2024-11-28 05:42:15.000\\n2024-11-28 07:18:04.909```\\n\\n#### 🌙 **Went-To-Sleep Times**\\n\\n```          went_to_sleep\\n2024-11-22 22:02:56.317\\n2024-11-23 23:13:39.784\\n2024-11-24 22:25:35.675\\n2024-11-25 16:50:49.279\\n2024-11-25 23:32:08.582\\n2024-11-27 00:41:32.391\\n2024-11-27 01:54:12.349\\n2024-11-27 07:04:22.281\\n2024-11-27 22:38:24.463\\n2024-11-28 06:26:25.523```\\n\\n#### 🔄 **Transition Counts Between Areas**\\n\\n```             from                to  count\\n         bathroom           kitchen    177\\n         bathroom livingroombedarea     17\\n         bathroom    livingroomdoor      9\\n         bathroom      went outside      4\\n         bathroom     went to sleep      2\\n          kitchen          bathroom    180\\n          kitchen livingroombedarea     16\\n          kitchen    livingroomdoor     25\\n          kitchen      went outside      4\\n          kitchen     went to sleep      4\\nlivingroombedarea          bathroom     17\\nlivingroombedarea           kitchen     16\\nlivingroombedarea    livingroomdoor      5\\nlivingroombedarea      went outside      2\\nlivingroombedarea     went to sleep      4\\n   livingroomdoor          bathroom      9\\n   livingroomdoor           kitchen     28\\n   livingroomdoor livingroombedarea      6\\n   livingroomdoor      went outside      2\\n     went outside          bathroom      3\\n     went outside           kitchen      5\\n     went outside livingroombedarea      1\\n     went outside    livingroomdoor      3\\n    went to sleep           kitchen      3\\n    went to sleep livingroombedarea      4\\n    went to sleep    livingroomdoor      3```\\n\\n#### 📊 **Transition Matrix**\\n\\n```to                 bathroom  kitchen  livingroombedarea  livingroomdoor  went outside  went to sleep\\nfrom                                                                                                \\nbathroom                  0      177                 17               9             4              2\\nkitchen                 180        0                 16              25             4              4\\nlivingroombedarea        17       16                  0               5             2              4\\nlivingroomdoor            9       28                  6               0             2              0\\nwent outside              3        5                  1               3             0              0\\nwent to sleep             0        3                  4               3             0              0```\\n\\n'"
      ]
     },
     "execution_count": 26,
     "metadata": {},
     "output_type": "execute_result"
    }
   ],
   "source": [
    "from motion_analysis import analyse_motion_patterns\n",
    "analyse_motion_patterns()"
   ]
  },
  {
   "cell_type": "markdown",
   "metadata": {},
   "source": [
    "## Burglary Detection"
   ]
  },
  {
   "cell_type": "code",
   "execution_count": 15,
   "metadata": {},
   "outputs": [],
   "source": [
    "from burglary_detection import BurglaryDetector\n",
    "from burglary_detection import create_burglary_message\n",
    "from motion_model import train_motion_model\n",
    "import pandas as pd\n",
    "from base.homecare_hub_utils import send_todo\n",
    "from base import base_logger"
   ]
  },
  {
   "cell_type": "code",
   "execution_count": 16,
   "metadata": {},
   "outputs": [
    {
     "name": "stdout",
     "output_type": "stream",
     "text": [
      "Model version 1 loaded from MinIO successfully.\n"
     ]
    }
   ],
   "source": [
    "detector = BurglaryDetector(contamination=0.01, model_type='burglary')\n",
    "detector.load_model(version=1)"
   ]
  },
  {
   "cell_type": "code",
   "execution_count": 20,
   "metadata": {},
   "outputs": [],
   "source": [
    "motion_model = train_motion_model(start_hours=24*7, interval_hours=24*7, time_threshold_seconds=1800)\n",
    "detection = detector.detect(motion_model)"
   ]
  },
  {
   "cell_type": "code",
   "execution_count": 21,
   "metadata": {},
   "outputs": [
    {
     "data": {
      "text/plain": [
       "(                  from                 to              leave_time  \\\n",
       " 0             bathroom  livingroombedarea 2025-01-01 20:40:00.413   \n",
       " 1    livingroombedarea       went outside 2025-01-01 22:04:35.178   \n",
       " 2         went outside           bathroom 2025-01-01 23:27:11.502   \n",
       " 3             bathroom      went to sleep 2025-01-02 00:42:30.393   \n",
       " 4        went to sleep            kitchen 2025-01-02 01:21:35.170   \n",
       " ..                 ...                ...                     ...   \n",
       " 148            kitchen           bathroom 2025-01-03 11:31:46.201   \n",
       " 149           bathroom            kitchen 2025-01-03 11:33:54.773   \n",
       " 150            kitchen           bathroom 2025-01-03 12:18:42.269   \n",
       " 151           bathroom            kitchen 2025-01-03 12:21:32.604   \n",
       " 152            kitchen           bathroom 2025-01-03 17:46:11.561   \n",
       " \n",
       "                  enter_time  duration  leave_hour  anomaly anomaly_label  \n",
       " 0   2025-01-01 20:45:46.692   346.279          20        1        Normal  \n",
       " 1   2025-01-01 22:04:35.178     0.000          22        1        Normal  \n",
       " 2   2025-01-01 23:27:11.502     0.000          23        1        Normal  \n",
       " 3   2025-01-02 00:42:30.393     0.000           0        1        Normal  \n",
       " 4   2025-01-02 01:21:35.170     0.000           1        1        Normal  \n",
       " ..                      ...       ...         ...      ...           ...  \n",
       " 148 2025-01-03 11:33:54.773   128.572          11        1        Normal  \n",
       " 149 2025-01-03 11:35:58.009   123.236          11        1        Normal  \n",
       " 150 2025-01-03 12:21:18.244   155.975          12        1        Normal  \n",
       " 151 2025-01-03 12:27:02.348   329.744          12        1        Normal  \n",
       " 152 2025-01-03 17:51:25.015   313.454          17        1        Normal  \n",
       " \n",
       " [153 rows x 8 columns],\n",
       " True)"
      ]
     },
     "execution_count": 21,
     "metadata": {},
     "output_type": "execute_result"
    }
   ],
   "source": [
    "detection"
   ]
  },
  {
   "cell_type": "code",
   "execution_count": 22,
   "metadata": {},
   "outputs": [
    {
     "data": {
      "text/plain": [
       "'🚔 **Burglary Alert!** 🚔\\nPotential burglary detected with the following details:\\n\\n🔹 **From:** livingroombedarea ➡️ **To:** kitchen\\n🔸 **Leave Time:** 2025-01-02 17:09:06\\n🔸 **Enter Time:** 2025-01-02 17:36:37\\n\\n⚠️ Please check the premises immediately. ⚠️'"
      ]
     },
     "execution_count": 22,
     "metadata": {},
     "output_type": "execute_result"
    }
   ],
   "source": [
    "create_burglary_message(detection[0], detection[1])"
   ]
  },
  {
   "cell_type": "code",
   "execution_count": 25,
   "metadata": {},
   "outputs": [
    {
     "name": "stdout",
     "output_type": "stream",
     "text": [
      "Model version 1 loaded from MinIO successfully.\n",
      "ToDo item saved successfully.\n",
      "Response: None\n"
     ]
    }
   ],
   "source": [
    "is_burglary, msg = detect_burglary(24*7, 24*7, 1800)\n",
    "if is_burglary:\n",
    "    send_todo(\"🏠🚔 Burglary Alert! 🏠🔐\", msg, 2)"
   ]
  }
 ],
 "metadata": {
  "kernelspec": {
   "display_name": "i2dl",
   "language": "python",
   "name": "python3"
  },
  "language_info": {
   "codemirror_mode": {
    "name": "ipython",
    "version": 3
   },
   "file_extension": ".py",
   "mimetype": "text/x-python",
   "name": "python",
   "nbconvert_exporter": "python",
   "pygments_lexer": "ipython3",
   "version": "3.11.9"
  }
 },
 "nbformat": 4,
 "nbformat_minor": 2
}
