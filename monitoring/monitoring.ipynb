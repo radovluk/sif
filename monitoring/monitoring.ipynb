{
 "cells": [
  {
   "cell_type": "markdown",
   "metadata": {},
   "source": [
    "## Emergency Detection"
   ]
  },
  {
   "cell_type": "code",
   "execution_count": 2,
   "metadata": {},
   "outputs": [
    {
     "ename": "ModuleNotFoundError",
     "evalue": "No module named 'detection'",
     "output_type": "error",
     "traceback": [
      "\u001b[0;31m---------------------------------------------------------------------------\u001b[0m",
      "\u001b[0;31mModuleNotFoundError\u001b[0m                       Traceback (most recent call last)",
      "Cell \u001b[0;32mIn[2], line 2\u001b[0m\n\u001b[1;32m      1\u001b[0m \u001b[38;5;28;01mimport\u001b[39;00m \u001b[38;5;21;01mpandas\u001b[39;00m \u001b[38;5;28;01mas\u001b[39;00m \u001b[38;5;21;01mpd\u001b[39;00m\n\u001b[0;32m----> 2\u001b[0m \u001b[38;5;28;01mfrom\u001b[39;00m \u001b[38;5;21;01mdetection\u001b[39;00m \u001b[38;5;28;01mimport\u001b[39;00m emergency_detection_workflow, prepare_data_for_detection, detect_emergency\n\u001b[1;32m      3\u001b[0m \u001b[38;5;28;01mfrom\u001b[39;00m \u001b[38;5;21;01mbase\u001b[39;00m\u001b[38;5;21;01m.\u001b[39;00m\u001b[38;5;21;01mminio_utils\u001b[39;00m \u001b[38;5;28;01mimport\u001b[39;00m load_model_from_minio\n\u001b[1;32m      4\u001b[0m \u001b[38;5;28;01mfrom\u001b[39;00m \u001b[38;5;21;01mbase\u001b[39;00m\u001b[38;5;21;01m.\u001b[39;00m\u001b[38;5;21;01minflux_utils\u001b[39;00m \u001b[38;5;28;01mimport\u001b[39;00m fetch_all_sensor_data\n",
      "\u001b[0;31mModuleNotFoundError\u001b[0m: No module named 'detection'"
     ]
    }
   ],
   "source": [
    "import pandas as pd\n",
    "from detection import emergency_detection_workflow, prepare_data_for_detection, detect_emergency\n",
    "from base.minio_utils import load_model_from_minio\n",
    "from base.influx_utils import fetch_all_sensor_data\n",
    "from base.homecare_hub_utils import send_info, send_todo"
   ]
  },
  {
   "cell_type": "code",
   "execution_count": null,
   "metadata": {},
   "outputs": [],
   "source": [
    "sensor_data = fetch_all_sensor_data(\n",
    "    start_hours=24,\n",
    "    interval_hours=24\n",
    ")\n",
    "prepared_df = prepare_data_for_detection(sensor_data)\n",
    "prepared_df.tail(5)"
   ]
  },
  {
   "cell_type": "code",
   "execution_count": null,
   "metadata": {},
   "outputs": [],
   "source": [
    "room_stats = load_model_from_minio(\"occupancy\")\n",
    "room_stats"
   ]
  },
  {
   "cell_type": "code",
   "execution_count": null,
   "metadata": {},
   "outputs": [],
   "source": [
    "_, message = emergency_detection_workflow()\n",
    "print(message)"
   ]
  },
  {
   "cell_type": "code",
   "execution_count": null,
   "metadata": {},
   "outputs": [],
   "source": [
    "room = \"livingroom\"\n",
    "duration = 240  # seconds\n",
    "stats = pd.Series({\"mean\": 120, \"std\": 30})\n",
    "\n",
    "_, result = detect_emergency(room, duration, stats)\n",
    "print(result)"
   ]
  },
  {
   "cell_type": "code",
   "execution_count": null,
   "metadata": {},
   "outputs": [],
   "source": [
    "send_todo(\"🚨 Patient Emergency! 🚨\", result, 2)"
   ]
  },
  {
   "cell_type": "markdown",
   "metadata": {},
   "source": [
    "## Motion Analysis"
   ]
  },
  {
   "cell_type": "code",
   "execution_count": null,
   "metadata": {},
   "outputs": [],
   "source": [
    "from motion_analysis import (\n",
    "    visualize_transitions_heatmap, \n",
    "    plot_bidirectional_transaction_graph, \n",
    "    summary_of_sleep_time_and_time_outside,\n",
    "    count_daily_visits,\n",
    "    detect_wake_up_times,\n",
    "    detect_went_to_sleep_times,\n",
    "    create_separate_heat_maps)\n",
    "from base.minio_utils import load_model_from_minio\n",
    "import pandas as pd\n",
    "from base.homecare_hub_utils import send_info\n",
    "from motion_analysis import analyse_motion_patterns\n",
    "pd.set_option('display.max_columns', None)\n",
    "pd.set_option('display.max_colwidth', None)\n",
    "pd.set_option('display.max_rows', None)"
   ]
  },
  {
   "cell_type": "code",
   "execution_count": null,
   "metadata": {},
   "outputs": [],
   "source": [
    "old_model = load_model_from_minio(\"motion\", 2)\n",
    "new_model = load_model_from_minio(\"motion\", 1)"
   ]
  },
  {
   "cell_type": "code",
   "execution_count": null,
   "metadata": {},
   "outputs": [],
   "source": [
    "old_model.head()"
   ]
  },
  {
   "cell_type": "code",
   "execution_count": null,
   "metadata": {},
   "outputs": [],
   "source": [
    "plot_bidirectional_transaction_graph(old_model)"
   ]
  },
  {
   "cell_type": "code",
   "execution_count": null,
   "metadata": {},
   "outputs": [],
   "source": [
    "plot_bidirectional_transaction_graph(new_model)"
   ]
  },
  {
   "cell_type": "code",
   "execution_count": null,
   "metadata": {},
   "outputs": [],
   "source": [
    "visualize_transitions_heatmap(old_model)"
   ]
  },
  {
   "cell_type": "markdown",
   "metadata": {},
   "source": [
    "#### Counting the sleep and went outside periods"
   ]
  },
  {
   "cell_type": "code",
   "execution_count": null,
   "metadata": {},
   "outputs": [],
   "source": [
    "summary_of_sleep_time_and_time_outside(old_model)"
   ]
  },
  {
   "cell_type": "code",
   "execution_count": null,
   "metadata": {},
   "outputs": [],
   "source": [
    "summary_of_sleep_time_and_time_outside(new_model)"
   ]
  },
  {
   "cell_type": "markdown",
   "metadata": {},
   "source": [
    "#### Detect daliy trips to places"
   ]
  },
  {
   "cell_type": "code",
   "execution_count": null,
   "metadata": {},
   "outputs": [],
   "source": [
    "count_daily_visits(new_model, transition_state='bathroom')"
   ]
  },
  {
   "cell_type": "code",
   "execution_count": null,
   "metadata": {},
   "outputs": [],
   "source": [
    "count_daily_visits(new_model, transition_state='kitchen')"
   ]
  },
  {
   "cell_type": "code",
   "execution_count": null,
   "metadata": {},
   "outputs": [],
   "source": [
    "count_daily_visits(new_model, transition_state='livingroombedarea')"
   ]
  },
  {
   "cell_type": "code",
   "execution_count": null,
   "metadata": {},
   "outputs": [],
   "source": [
    "count_daily_visits(old_model, transition_state='livingroomdoor')"
   ]
  },
  {
   "cell_type": "markdown",
   "metadata": {},
   "source": [
    "#### Wake up times"
   ]
  },
  {
   "cell_type": "code",
   "execution_count": null,
   "metadata": {},
   "outputs": [],
   "source": [
    "detect_wake_up_times(new_model)"
   ]
  },
  {
   "cell_type": "code",
   "execution_count": null,
   "metadata": {},
   "outputs": [],
   "source": [
    "detect_went_to_sleep_times(old_model)"
   ]
  },
  {
   "cell_type": "code",
   "execution_count": null,
   "metadata": {},
   "outputs": [],
   "source": [
    "create_separate_heat_maps(new_model)"
   ]
  },
  {
   "cell_type": "code",
   "execution_count": null,
   "metadata": {},
   "outputs": [],
   "source": [
    "message = analyse_motion_patterns()"
   ]
  },
  {
   "cell_type": "code",
   "execution_count": null,
   "metadata": {},
   "outputs": [],
   "source": [
    "print(message)"
   ]
  },
  {
   "cell_type": "markdown",
   "metadata": {},
   "source": [
    "## Burglary Detection"
   ]
  },
  {
   "cell_type": "code",
   "execution_count": 6,
   "metadata": {},
   "outputs": [],
   "source": [
    "from burglary_detection import BurglaryDetector\n",
    "from burglary_detection import create_burglary_message\n",
    "from motion_model import train_motion_model\n",
    "import pandas as pd\n",
    "from base import base_logger"
   ]
  },
  {
   "cell_type": "code",
   "execution_count": 2,
   "metadata": {},
   "outputs": [
    {
     "name": "stdout",
     "output_type": "stream",
     "text": [
      "Model version 1 loaded from MinIO successfully.\n"
     ]
    }
   ],
   "source": [
    "detector = BurglaryDetector(contamination=0.01, model_type='burglary')\n",
    "detector.load_model(version=1)"
   ]
  },
  {
   "cell_type": "code",
   "execution_count": 4,
   "metadata": {},
   "outputs": [],
   "source": [
    "motion_model = train_motion_model(start_hours=24*7*5, interval_hours=24*7*5, time_threshold_seconds=1800)\n",
    "detection = detector.detect(motion_model)"
   ]
  },
  {
   "cell_type": "code",
   "execution_count": 5,
   "metadata": {},
   "outputs": [
    {
     "data": {
      "text/plain": [
       "(                   from                 to              leave_time  \\\n",
       " 0        livingroomdoor            kitchen 2024-11-29 17:43:15.000   \n",
       " 1               kitchen  livingroombedarea 2024-11-29 18:05:28.848   \n",
       " 2     livingroombedarea            kitchen 2024-11-29 18:06:06.029   \n",
       " 3               kitchen       went outside 2024-11-29 18:23:10.914   \n",
       " 4          went outside  livingroombedarea 2024-11-30 03:45:58.649   \n",
       " ...                 ...                ...                     ...   \n",
       " 1671           bathroom            kitchen 2025-01-03 11:19:50.113   \n",
       " 1672            kitchen           bathroom 2025-01-03 11:31:46.201   \n",
       " 1673           bathroom            kitchen 2025-01-03 11:33:54.773   \n",
       " 1674            kitchen           bathroom 2025-01-03 12:18:42.269   \n",
       " 1675           bathroom            kitchen 2025-01-03 12:21:32.604   \n",
       " \n",
       "                   enter_time  duration  leave_hour  anomaly anomaly_label  \n",
       " 0    2024-11-29 17:53:00.438   585.438          17        1        Normal  \n",
       " 1    2024-11-29 18:05:35.245     6.397          18        1        Normal  \n",
       " 2    2024-11-29 18:19:48.337   822.308          18        1        Normal  \n",
       " 3    2024-11-29 18:23:10.914     0.000          18        1        Normal  \n",
       " 4    2024-11-30 03:45:58.649     0.000           3       -1       Anomaly  \n",
       " ...                      ...       ...         ...      ...           ...  \n",
       " 1671 2025-01-03 11:20:04.632    14.519          11        1        Normal  \n",
       " 1672 2025-01-03 11:33:54.773   128.572          11        1        Normal  \n",
       " 1673 2025-01-03 11:35:58.009   123.236          11        1        Normal  \n",
       " 1674 2025-01-03 12:21:18.244   155.975          12        1        Normal  \n",
       " 1675 2025-01-03 12:27:02.348   329.744          12        1        Normal  \n",
       " \n",
       " [1676 rows x 8 columns],\n",
       " True)"
      ]
     },
     "execution_count": 5,
     "metadata": {},
     "output_type": "execute_result"
    }
   ],
   "source": [
    "detection"
   ]
  },
  {
   "cell_type": "code",
   "execution_count": 7,
   "metadata": {},
   "outputs": [
    {
     "data": {
      "text/plain": [
       "'🚔 **Burglary Alert!** 🚔\\nPotential burglary detected with the following details:\\n\\n🔹 **From:** went outside ➡️ **To:** livingroombedarea\\n🔸 **Leave Time:** 2024-11-30 03:45:58\\n🔸 **Enter Time:** 2024-11-30 03:45:58\\n\\n🔹 **From:** livingroombedarea ➡️ **To:** went outside\\n🔸 **Leave Time:** 2024-12-03 14:59:02\\n🔸 **Enter Time:** 2024-12-03 14:59:02\\n\\n🔹 **From:** livingroombedarea ➡️ **To:** livingroomdoor\\n🔸 **Leave Time:** 2024-12-03 22:05:43\\n🔸 **Enter Time:** 2024-12-03 22:24:11\\n\\n🔹 **From:** livingroomdoor ➡️ **To:** livingroombedarea\\n🔸 **Leave Time:** 2024-12-03 22:24:11\\n🔸 **Enter Time:** 2024-12-03 22:46:27\\n\\n🔹 **From:** livingroombedarea ➡️ **To:** livingroomdoor\\n🔸 **Leave Time:** 2024-12-03 23:04:56\\n🔸 **Enter Time:** 2024-12-03 23:12:12\\n\\n🔹 **From:** livingroombedarea ➡️ **To:** went to sleep\\n🔸 **Leave Time:** 2024-12-04 00:14:02\\n🔸 **Enter Time:** 2024-12-04 00:14:02\\n\\n🔹 **From:** bathroom ➡️ **To:** livingroombedarea\\n🔸 **Leave Time:** 2024-12-07 00:48:57\\n🔸 **Enter Time:** 2024-12-07 01:10:44\\n\\n🔹 **From:** went to sleep ➡️ **To:** livingroomdoor\\n🔸 **Leave Time:** 2024-12-07 22:59:00\\n🔸 **Enter Time:** 2024-12-07 22:59:00\\n\\n🔹 **From:** livingroombedarea ➡️ **To:** bathroom\\n🔸 **Leave Time:** 2024-12-08 00:35:16\\n🔸 **Enter Time:** 2024-12-08 00:54:28\\n\\n🔹 **From:** livingroomdoor ➡️ **To:** bathroom\\n🔸 **Leave Time:** 2024-12-17 05:45:29\\n🔸 **Enter Time:** 2024-12-17 06:08:54\\n\\n🔹 **From:** livingroomdoor ➡️ **To:** livingroombedarea\\n🔸 **Leave Time:** 2024-12-17 09:59:25\\n🔸 **Enter Time:** 2024-12-17 10:23:44\\n\\n🔹 **From:** livingroombedarea ➡️ **To:** livingroomdoor\\n🔸 **Leave Time:** 2024-12-17 10:49:54\\n🔸 **Enter Time:** 2024-12-17 11:14:54\\n\\n🔹 **From:** bathroom ➡️ **To:** livingroombedarea\\n🔸 **Leave Time:** 2024-12-17 23:34:24\\n🔸 **Enter Time:** 2024-12-18 00:03:51\\n\\n🔹 **From:** livingroombedarea ➡️ **To:** went to sleep\\n🔸 **Leave Time:** 2024-12-19 00:49:40\\n🔸 **Enter Time:** 2024-12-19 00:49:40\\n\\n🔹 **From:** went outside ➡️ **To:** livingroombedarea\\n🔸 **Leave Time:** 2024-12-19 19:58:02\\n🔸 **Enter Time:** 2024-12-19 19:58:02\\n\\n🔹 **From:** bathroom ➡️ **To:** went to sleep\\n🔸 **Leave Time:** 2024-12-20 00:06:05\\n🔸 **Enter Time:** 2024-12-20 00:06:05\\n\\n🔹 **From:** livingroombedarea ➡️ **To:** went to sleep\\n🔸 **Leave Time:** 2024-12-21 01:51:46\\n🔸 **Enter Time:** 2024-12-21 01:51:46\\n\\n🔹 **From:** livingroombedarea ➡️ **To:** kitchen\\n🔸 **Leave Time:** 2025-01-02 17:09:06\\n🔸 **Enter Time:** 2025-01-02 17:36:37\\n\\n⚠️ Please check the premises immediately. ⚠️'"
      ]
     },
     "execution_count": 7,
     "metadata": {},
     "output_type": "execute_result"
    }
   ],
   "source": [
    "create_burglary_message(detection[0], detection[1])"
   ]
  },
  {
   "cell_type": "code",
   "execution_count": 8,
   "metadata": {},
   "outputs": [],
   "source": [
    "from burglary_detection import detect_burglary"
   ]
  },
  {
   "cell_type": "code",
   "execution_count": 9,
   "metadata": {},
   "outputs": [
    {
     "name": "stdout",
     "output_type": "stream",
     "text": [
      "Model version 1 loaded from MinIO successfully.\n"
     ]
    },
    {
     "data": {
      "text/plain": [
       "(False,\n",
       " '✅ **All Clear!** No unusual activities detected.\\nEverything is normal. Have a great day! 😊')"
      ]
     },
     "execution_count": 9,
     "metadata": {},
     "output_type": "execute_result"
    }
   ],
   "source": [
    "detect_burglary()"
   ]
  }
 ],
 "metadata": {
  "kernelspec": {
   "display_name": "i2dl",
   "language": "python",
   "name": "python3"
  },
  "language_info": {
   "codemirror_mode": {
    "name": "ipython",
    "version": 3
   },
   "file_extension": ".py",
   "mimetype": "text/x-python",
   "name": "python",
   "nbconvert_exporter": "python",
   "pygments_lexer": "ipython3",
   "version": "3.11.9"
  }
 },
 "nbformat": 4,
 "nbformat_minor": 2
}
